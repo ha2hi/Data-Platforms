{
 "cells": [
  {
   "cell_type": "code",
   "execution_count": null,
   "id": "5b0b7779",
   "metadata": {},
   "outputs": [],
   "source": [
    "from __future__ import annotations\n",
    "\n",
    "from requests.adapters import HTTPAdapter\n",
    "import requests\n",
    "from urllib3.util.retry import Retry\n",
    "\n",
    "class HttpMethod:\n",
    "    def __init__(self):\n",
    "        self.session = self._requests_retry_session()\n",
    "\n",
    "    def _requests_retry_session(retries=5, backoff_factor=0.3,\n",
    "                                status_forcelist=(500, 502, 504), session=None):\n",
    "        \n",
    "        with requests.Session() as s:\n",
    "        \n",
    "            retry = Retry(total=retries, read=retries, connect=retries,\n",
    "                            backoff_factor=backoff_factor,\n",
    "                            status_forcelist=status_forcelist)\n",
    "            adapter = HTTPAdapter(max_retries=retry)\n",
    "            s.mount('http://', adapter)\n",
    "            s.mount('https://', adapter)\n",
    "            return s\n",
    "    \n",
    "    def get(self, path, timeout=3, **kwargs):\n",
    "        try:\n",
    "            uri = self.base_url + path\n",
    "            return self.session.get(url=uri, params=kwargs, timeout=timeout).\\\n",
    "                json()\n",
    "        except Exception as x:\n",
    "            print(\"It failed\", x.__class__.__name__)\n",
    "            return None\n",
    "\n",
    "    \n",
    "class BithumbHttp(HttpMethod):\n",
    "    def __init__(self, conkey=\"\", seckey=\"\"):\n",
    "        self.API_CONKEY = conkey.encode('utf-8')\n",
    "        self.API_SECRET = seckey.encode('utf-8')\n",
    "        super(BithumbHttp, self).__init__()\n",
    "\n",
    "    @property\n",
    "    def base_url(self):\n",
    "        return \"https://api.bithumb.com\"\n",
    "\n",
    "class PublicApi:\n",
    "    @staticmethod\n",
    "    def ticker(is_deatils = False):\n",
    "        uri = f\"/v1/market/all?isDetails={is_deatils}\"\n",
    "        return BithumbHttp().get(uri)\n",
    "    \n",
    "class Bithumb:\n",
    "    @staticmethod\n",
    "    def get_tickers(is_deatils=False):\n",
    "        \"\"\"\n",
    "        빗썸이 지원하는 KRW 마켓 코드 30개\n",
    "        :param payment_currency : KRW\n",
    "        :return:\n",
    "        \"\"\"\n",
    "        resp = None\n",
    "        try:\n",
    "            resp = PublicApi.ticker(is_deatils)\n",
    "\n",
    "            krw_ticker = [item[\"market\"] for item in resp if item[\"market\"].startswith(\"KRW-\")]\n",
    "            krw_ticker = krw_ticker[:30]\n",
    "            return krw_ticker\n",
    "        except Exception:\n",
    "            return resp"
   ]
  },
  {
   "cell_type": "code",
   "execution_count": 58,
   "id": "bba2b059",
   "metadata": {},
   "outputs": [
    {
     "data": {
      "text/plain": [
       "30"
      ]
     },
     "execution_count": 58,
     "metadata": {},
     "output_type": "execute_result"
    }
   ],
   "source": [
    "len(Bithumb.get_tickers())"
   ]
  },
  {
   "cell_type": "code",
   "execution_count": 48,
   "id": "6ca2cb1b",
   "metadata": {},
   "outputs": [
    {
     "data": {
      "text/plain": [
       "377"
      ]
     },
     "execution_count": 48,
     "metadata": {},
     "output_type": "execute_result"
    }
   ],
   "source": [
    "len(krw_ticker)"
   ]
  },
  {
   "cell_type": "code",
   "execution_count": null,
   "id": "8c88365b",
   "metadata": {},
   "outputs": [],
   "source": []
  }
 ],
 "metadata": {
  "kernelspec": {
   "display_name": "base",
   "language": "python",
   "name": "python3"
  },
  "language_info": {
   "codemirror_mode": {
    "name": "ipython",
    "version": 3
   },
   "file_extension": ".py",
   "mimetype": "text/x-python",
   "name": "python",
   "nbconvert_exporter": "python",
   "pygments_lexer": "ipython3",
   "version": "3.9.7"
  }
 },
 "nbformat": 4,
 "nbformat_minor": 5
}
