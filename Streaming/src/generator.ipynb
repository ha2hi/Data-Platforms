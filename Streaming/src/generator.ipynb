{
 "cells": [
  {
   "cell_type": "code",
   "execution_count": 7,
   "id": "5b0b7779",
   "metadata": {},
   "outputs": [
    {
     "name": "stdout",
     "output_type": "stream",
     "text": [
      "[{'market': 'KRW-BTC', 'trade_date': '20250510', 'trade_time': '051423', 'trade_date_kst': '20250510', 'trade_time_kst': '141423', 'trade_timestamp': 1746886463399, 'opening_price': 144520000, 'high_price': 144678000, 'low_price': 143702000, 'trade_price': 144210000, 'prev_closing_price': 144520000, 'change': 'FALL', 'change_price': 310000, 'change_rate': 0.0021, 'signed_change_price': -310000, 'signed_change_rate': -0.0021, 'trade_volume': 4.204e-05, 'acc_trade_price': 28611053788.18734, 'acc_trade_price_24h': 100828660660.68262, 'acc_trade_volume': 198.55651572, 'acc_trade_volume_24h': 697.72846838, 'highest_52_week_price': 163460000, 'highest_52_week_date': '2025-01-21', 'lowest_52_week_price': 71573000, 'lowest_52_week_date': '2024-08-06', 'timestamp': 1746854065313}]\n",
      "[{'market': 'KRW-ETH', 'trade_date': '20250510', 'trade_time': '051423', 'trade_date_kst': '20250510', 'trade_time_kst': '141423', 'trade_timestamp': 1746886463835, 'opening_price': 3234000, 'high_price': 3328000, 'low_price': 3195000, 'trade_price': 3271000, 'prev_closing_price': 3234000, 'change': 'RISE', 'change_price': 37000, 'change_rate': 0.0114, 'signed_change_price': 37000, 'signed_change_rate': 0.0114, 'trade_volume': 3.04273005, 'acc_trade_price': 34950259053.227844, 'acc_trade_price_24h': 149443825653.18832, 'acc_trade_volume': 10720.860280888253, 'acc_trade_volume_24h': 45517.87335078662, 'highest_52_week_price': 5895000, 'highest_52_week_date': '2024-12-18', 'lowest_52_week_price': 2091000, 'lowest_52_week_date': '2025-04-10', 'timestamp': 1746854065411}]\n",
      "[{'market': 'KRW-ETC', 'trade_date': '20250510', 'trade_time': '051317', 'trade_date_kst': '20250510', 'trade_time_kst': '141317', 'trade_timestamp': 1746886397352, 'opening_price': 26650, 'high_price': 27200, 'low_price': 25000, 'trade_price': 26860, 'prev_closing_price': 26650, 'change': 'RISE', 'change_price': 210, 'change_rate': 0.0079, 'signed_change_price': 210, 'signed_change_rate': 0.0079, 'trade_volume': 3.72162263, 'acc_trade_price': 2268593268.5139136, 'acc_trade_price_24h': 7929823359.222721, 'acc_trade_volume': 84790.31175974778, 'acc_trade_volume_24h': 295753.7279151109, 'highest_52_week_price': 55500, 'highest_52_week_date': '2024-12-08', 'lowest_52_week_price': 19120, 'lowest_52_week_date': '2025-04-08', 'timestamp': 1746854065477}]\n",
      "[{'market': 'KRW-XRP', 'trade_date': '20250510', 'trade_time': '051421', 'trade_date_kst': '20250510', 'trade_time_kst': '141421', 'trade_timestamp': 1746886461297, 'opening_price': 3300, 'high_price': 3324, 'low_price': 3260, 'trade_price': 3300, 'prev_closing_price': 3300, 'change': 'EVEN', 'change_price': 0, 'change_rate': 0, 'signed_change_price': 0, 'signed_change_rate': 0.0, 'trade_volume': 7.36874917, 'acc_trade_price': 90074464741.11317, 'acc_trade_price_24h': 303092779198.1948, 'acc_trade_volume': 27376063.59145224, 'acc_trade_volume_24h': 91506966.98864718, 'highest_52_week_price': 4987, 'highest_52_week_date': '2025-01-22', 'lowest_52_week_price': 559, 'lowest_52_week_date': '2024-07-06', 'timestamp': 1746854065557}]\n",
      "[{'market': 'KRW-BCH', 'trade_date': '20250510', 'trade_time': '051241', 'trade_date_kst': '20250510', 'trade_time_kst': '141241', 'trade_timestamp': 1746886361195, 'opening_price': 572000, 'high_price': 583000, 'low_price': 567000, 'trade_price': 582500, 'prev_closing_price': 572000, 'change': 'RISE', 'change_price': 10500, 'change_rate': 0.0184, 'signed_change_price': 10500, 'signed_change_rate': 0.0184, 'trade_volume': 0.1006, 'acc_trade_price': 986891148.044865, 'acc_trade_price_24h': 4196337474.6799, 'acc_trade_volume': 1716.33882661, 'acc_trade_volume_24h': 7216.6533557, 'highest_52_week_price': 891000, 'highest_52_week_date': '2024-12-08', 'lowest_52_week_price': 374200, 'lowest_52_week_date': '2025-04-08', 'timestamp': 1746854065748}]\n",
      "[{'market': 'KRW-QTUM', 'trade_date': '20250510', 'trade_time': '051406', 'trade_date_kst': '20250510', 'trade_time_kst': '141406', 'trade_timestamp': 1746886446688, 'opening_price': 3459, 'high_price': 3533, 'low_price': 3419, 'trade_price': 3500, 'prev_closing_price': 3456, 'change': 'RISE', 'change_price': 44, 'change_rate': 0.0127, 'signed_change_price': 44, 'signed_change_rate': 0.0127, 'trade_volume': 2.9907, 'acc_trade_price': 892093277.7983706, 'acc_trade_price_24h': 1698625568.7507358, 'acc_trade_volume': 256381.61467356, 'acc_trade_volume_24h': 492323.10568407, 'highest_52_week_price': 8055, 'highest_52_week_date': '2024-12-05', 'lowest_52_week_price': 2365, 'lowest_52_week_date': '2025-04-08', 'timestamp': 1746854065851}]\n",
      "[{'market': 'KRW-EOS', 'trade_date': '20250510', 'trade_time': '051421', 'trade_date_kst': '20250510', 'trade_time_kst': '141421', 'trade_timestamp': 1746886461484, 'opening_price': 1192, 'high_price': 1308, 'low_price': 1182, 'trade_price': 1294, 'prev_closing_price': 1192, 'change': 'RISE', 'change_price': 102, 'change_rate': 0.0856, 'signed_change_price': 102, 'signed_change_rate': 0.0856, 'trade_volume': 760, 'acc_trade_price': 5792985528.780725, 'acc_trade_price_24h': 10860357550.13068, 'acc_trade_volume': 4671607.78394312, 'acc_trade_volume_24h': 8889912.57824391, 'highest_52_week_price': 2167, 'highest_52_week_date': '2024-12-05', 'lowest_52_week_price': 558, 'lowest_52_week_date': '2024-11-06', 'timestamp': 1746854065913}]\n",
      "[{'market': 'KRW-ICX', 'trade_date': '20250510', 'trade_time': '051205', 'trade_date_kst': '20250510', 'trade_time_kst': '141205', 'trade_timestamp': 1746886325822, 'opening_price': 151, 'high_price': 154, 'low_price': 148, 'trade_price': 151, 'prev_closing_price': 150, 'change': 'RISE', 'change_price': 1, 'change_rate': 0.0067, 'signed_change_price': 1, 'signed_change_rate': 0.0067, 'trade_volume': 198.67549669, 'acc_trade_price': 126491141.70535283, 'acc_trade_price_24h': 263025801.87551242, 'acc_trade_volume': 838299.3998113498, 'acc_trade_volume_24h': 1750382.2380677783, 'highest_52_week_price': 414, 'highest_52_week_date': '2024-12-05', 'lowest_52_week_price': 106, 'lowest_52_week_date': '2025-04-08', 'timestamp': 1746854066011}]\n",
      "[{'market': 'KRW-TRX', 'trade_date': '20250510', 'trade_time': '051417', 'trade_date_kst': '20250510', 'trade_time_kst': '141417', 'trade_timestamp': 1746886457054, 'opening_price': 368, 'high_price': 370, 'low_price': 363, 'trade_price': 368, 'prev_closing_price': 367, 'change': 'RISE', 'change_price': 1, 'change_rate': 0.0027, 'signed_change_price': 1, 'signed_change_rate': 0.0027, 'trade_volume': 3790.24127718, 'acc_trade_price': 2155197014.8701534, 'acc_trade_price_24h': 7504264060.134281, 'acc_trade_volume': 5875451.98980223, 'acc_trade_volume_24h': 20597252.89597501, 'highest_52_week_price': 650, 'highest_52_week_date': '2024-12-05', 'lowest_52_week_price': 153, 'lowest_52_week_date': '2024-05-29', 'timestamp': 1746854066169}]\n",
      "[{'market': 'KRW-ELF', 'trade_date': '20250510', 'trade_time': '044042', 'trade_date_kst': '20250510', 'trade_time_kst': '134042', 'trade_timestamp': 1746884442872, 'opening_price': 342, 'high_price': 349, 'low_price': 340, 'trade_price': 344, 'prev_closing_price': 342, 'change': 'RISE', 'change_price': 2, 'change_rate': 0.0058, 'signed_change_price': 2, 'signed_change_rate': 0.0058, 'trade_volume': 143.03049142, 'acc_trade_price': 67944720.93428683, 'acc_trade_price_24h': 202531008.81198233, 'acc_trade_volume': 196894.68902659, 'acc_trade_volume_24h': 591218.21700467, 'highest_52_week_price': 1250, 'highest_52_week_date': '2024-11-27', 'lowest_52_week_price': 302, 'lowest_52_week_date': '2025-04-10', 'timestamp': 1746854066346}]\n",
      "[{'market': 'KRW-KNC', 'trade_date': '20250510', 'trade_time': '044625', 'trade_date_kst': '20250510', 'trade_time_kst': '134625', 'trade_timestamp': 1746884785900, 'opening_price': 555, 'high_price': 575, 'low_price': 549, 'trade_price': 567, 'prev_closing_price': 551, 'change': 'RISE', 'change_price': 16, 'change_rate': 0.029, 'signed_change_price': 16, 'signed_change_rate': 0.029, 'trade_volume': 1.11, 'acc_trade_price': 30967750.59212015, 'acc_trade_price_24h': 48143011.83709106, 'acc_trade_volume': 55189.80619961, 'acc_trade_volume_24h': 86167.06510401348, 'highest_52_week_price': 1441, 'highest_52_week_date': '2024-12-05', 'lowest_52_week_price': 390, 'lowest_52_week_date': '2025-04-08', 'timestamp': 1746854066602}]\n",
      "[{'market': 'KRW-GLM', 'trade_date': '20250510', 'trade_time': '045446', 'trade_date_kst': '20250510', 'trade_time_kst': '135446', 'trade_timestamp': 1746885286395, 'opening_price': 401, 'high_price': 407, 'low_price': 397, 'trade_price': 400, 'prev_closing_price': 399, 'change': 'RISE', 'change_price': 1, 'change_rate': 0.0025, 'signed_change_price': 1, 'signed_change_rate': 0.0025, 'trade_volume': 13.58852867, 'acc_trade_price': 92813527.66013771, 'acc_trade_price_24h': 245243609.65188333, 'acc_trade_volume': 231306.2810243722, 'acc_trade_volume_24h': 613740.9176901415, 'highest_52_week_price': 930, 'highest_52_week_date': '2024-11-27', 'lowest_52_week_price': 305, 'lowest_52_week_date': '2025-04-08', 'timestamp': 1746854066712}]\n",
      "[{'market': 'KRW-ZIL', 'trade_date': '20250510', 'trade_time': '045336', 'trade_date_kst': '20250510', 'trade_time_kst': '135336', 'trade_timestamp': 1746885216099, 'opening_price': 19.51, 'high_price': 20.17, 'low_price': 19.36, 'trade_price': 19.9, 'prev_closing_price': 19.5, 'change': 'RISE', 'change_price': 0.4, 'change_rate': 0.0205, 'signed_change_price': 0.4, 'signed_change_rate': 0.0205, 'trade_volume': 5.566e-05, 'acc_trade_price': 50887736.58892039, 'acc_trade_price_24h': 119818197.12557378, 'acc_trade_volume': 2568308.514251995, 'acc_trade_volume_24h': 6125352.685554426, 'highest_52_week_price': 52.43, 'highest_52_week_date': '2024-12-04', 'lowest_52_week_price': 13.83, 'lowest_52_week_date': '2025-04-08', 'timestamp': 1746854066804}]\n",
      "[{'market': 'KRW-WAXP', 'trade_date': '20250510', 'trade_time': '051256', 'trade_date_kst': '20250510', 'trade_time_kst': '141256', 'trade_timestamp': 1746886376422, 'opening_price': 36.16, 'high_price': 36.99, 'low_price': 35.82, 'trade_price': 36.29, 'prev_closing_price': 35.97, 'change': 'RISE', 'change_price': 0.32, 'change_rate': 0.0089, 'signed_change_price': 0.32, 'signed_change_rate': 0.0089, 'trade_volume': 500, 'acc_trade_price': 111623667.06480673, 'acc_trade_price_24h': 230499539.80119842, 'acc_trade_volume': 3072197.26803987, 'acc_trade_volume_24h': 6379704.36293961, 'highest_52_week_price': 101, 'highest_52_week_date': '2024-12-05', 'lowest_52_week_price': 25.01, 'lowest_52_week_date': '2025-04-08', 'timestamp': 1746854066887}]\n",
      "[{'market': 'KRW-POWR', 'trade_date': '20250510', 'trade_time': '050042', 'trade_date_kst': '20250510', 'trade_time_kst': '140042', 'trade_timestamp': 1746885642625, 'opening_price': 269, 'high_price': 277, 'low_price': 268, 'trade_price': 273, 'prev_closing_price': 269, 'change': 'RISE', 'change_price': 4, 'change_rate': 0.0149, 'signed_change_price': 4, 'signed_change_rate': 0.0149, 'trade_volume': 9.526e-05, 'acc_trade_price': 63009194.65221353, 'acc_trade_price_24h': 169214663.0135622, 'acc_trade_volume': 231217.50106312, 'acc_trade_volume_24h': 625606.47947379, 'highest_52_week_price': 575, 'highest_52_week_date': '2024-11-27', 'lowest_52_week_price': 188, 'lowest_52_week_date': '2025-04-08', 'timestamp': 1746854066966}]\n",
      "[{'market': 'KRW-LRC', 'trade_date': '20250510', 'trade_time': '050244', 'trade_date_kst': '20250510', 'trade_time_kst': '140244', 'trade_timestamp': 1746885764597, 'opening_price': 162, 'high_price': 166, 'low_price': 158, 'trade_price': 162, 'prev_closing_price': 163, 'change': 'FALL', 'change_price': 1, 'change_rate': 0.0061, 'signed_change_price': -1, 'signed_change_rate': -0.0061, 'trade_volume': 263.1895, 'acc_trade_price': 176841418.77475366, 'acc_trade_price_24h': 582575100.3150547, 'acc_trade_volume': 1095796.8745943867, 'acc_trade_volume_24h': 3622328.2230405184, 'highest_52_week_price': 468, 'highest_52_week_date': '2024-12-05', 'lowest_52_week_price': 114, 'lowest_52_week_date': '2025-04-10', 'timestamp': 1746854067049}]\n",
      "[{'market': 'KRW-STEEM', 'trade_date': '20250510', 'trade_time': '050809', 'trade_date_kst': '20250510', 'trade_time_kst': '140809', 'trade_timestamp': 1746886089101, 'opening_price': 215, 'high_price': 221, 'low_price': 214, 'trade_price': 219, 'prev_closing_price': 214, 'change': 'RISE', 'change_price': 5, 'change_rate': 0.0234, 'signed_change_price': 5, 'signed_change_rate': 0.0234, 'trade_volume': 227.7411494, 'acc_trade_price': 136120042.10866475, 'acc_trade_price_24h': 392293701.90681314, 'acc_trade_volume': 625950.25908246, 'acc_trade_volume_24h': 1826947.08396323, 'highest_52_week_price': 570, 'highest_52_week_date': '2024-12-30', 'lowest_52_week_price': 152, 'lowest_52_week_date': '2025-04-08', 'timestamp': 1746854067280}]\n",
      "[{'market': 'KRW-ZRX', 'trade_date': '20250510', 'trade_time': '044434', 'trade_date_kst': '20250510', 'trade_time_kst': '134434', 'trade_timestamp': 1746884674953, 'opening_price': 410, 'high_price': 422, 'low_price': 407, 'trade_price': 410, 'prev_closing_price': 409, 'change': 'RISE', 'change_price': 1, 'change_rate': 0.0024, 'signed_change_price': 1, 'signed_change_rate': 0.0024, 'trade_volume': 14.6915, 'acc_trade_price': 145445915.80575186, 'acc_trade_price_24h': 275733482.7680301, 'acc_trade_volume': 349301.74579401326, 'acc_trade_volume_24h': 665852.9920696493, 'highest_52_week_price': 1332, 'highest_52_week_date': '2024-12-07', 'lowest_52_week_price': 289, 'lowest_52_week_date': '2025-04-08', 'timestamp': 1746854067372}]\n",
      "[{'market': 'KRW-SNT', 'trade_date': '20250510', 'trade_time': '051031', 'trade_date_kst': '20250510', 'trade_time_kst': '141031', 'trade_timestamp': 1746886231936, 'opening_price': 33.07, 'high_price': 35.45, 'low_price': 32.85, 'trade_price': 33.43, 'prev_closing_price': 33.16, 'change': 'RISE', 'change_price': 0.27, 'change_rate': 0.0081, 'signed_change_price': 0.27, 'signed_change_rate': 0.0081, 'trade_volume': 21043.44284368, 'acc_trade_price': 598903721.795658, 'acc_trade_price_24h': 881839670.0337663, 'acc_trade_volume': 17665310.849868838, 'acc_trade_volume_24h': 26242483.7377891, 'highest_52_week_price': 120, 'highest_52_week_date': '2024-12-10', 'lowest_52_week_price': 23.41, 'lowest_52_week_date': '2024-08-06', 'timestamp': 1746854067554}]\n",
      "[{'market': 'KRW-ADA', 'trade_date': '20250510', 'trade_time': '051420', 'trade_date_kst': '20250510', 'trade_time_kst': '141420', 'trade_timestamp': 1746886460408, 'opening_price': 1095, 'high_price': 1106, 'low_price': 1079, 'trade_price': 1087, 'prev_closing_price': 1096, 'change': 'FALL', 'change_price': 9, 'change_rate': 0.0082, 'signed_change_price': -9, 'signed_change_rate': -0.0082, 'trade_volume': 19.01850007, 'acc_trade_price': 4825272640.322923, 'acc_trade_price_24h': 16448140477.98635, 'acc_trade_volume': 4420678.06615102, 'acc_trade_volume_24h': 14934184.2924245, 'highest_52_week_price': 1931, 'highest_52_week_date': '2024-12-04', 'lowest_52_week_price': 398, 'lowest_52_week_date': '2024-08-06', 'timestamp': 1746854067838}]\n",
      "[{'market': 'KRW-CTXC', 'trade_date': '20250510', 'trade_time': '051243', 'trade_date_kst': '20250510', 'trade_time_kst': '141243', 'trade_timestamp': 1746886363291, 'opening_price': 117, 'high_price': 117, 'low_price': 113, 'trade_price': 115, 'prev_closing_price': 116, 'change': 'FALL', 'change_price': 1, 'change_rate': 0.0086, 'signed_change_price': -1, 'signed_change_rate': -0.0086, 'trade_volume': 181.15580613, 'acc_trade_price': 301707734.40504724, 'acc_trade_price_24h': 731033562.9301739, 'acc_trade_volume': 2622307.2685938408, 'acc_trade_volume_24h': 6382165.4420191515, 'highest_52_week_price': 1550, 'highest_52_week_date': '2024-12-16', 'lowest_52_week_price': 79.34, 'lowest_52_week_date': '2025-04-18', 'timestamp': 1746854068128}]\n",
      "[{'market': 'KRW-BAT', 'trade_date': '20250510', 'trade_time': '050042', 'trade_date_kst': '20250510', 'trade_time_kst': '140042', 'trade_timestamp': 1746885642836, 'opening_price': 223, 'high_price': 230, 'low_price': 221, 'trade_price': 225, 'prev_closing_price': 223, 'change': 'RISE', 'change_price': 2, 'change_rate': 0.009, 'signed_change_price': 2, 'signed_change_rate': 0.009, 'trade_volume': 24.68888889, 'acc_trade_price': 91891587.96086237, 'acc_trade_price_24h': 134855915.38851222, 'acc_trade_volume': 408575.57175885944, 'acc_trade_volume_24h': 600770.8543985389, 'highest_52_week_price': 527, 'highest_52_week_date': '2024-12-08', 'lowest_52_week_price': 163, 'lowest_52_week_date': '2025-04-08', 'timestamp': 1746854068207}]\n",
      "[{'market': 'KRW-THETA', 'trade_date': '20250510', 'trade_time': '051024', 'trade_date_kst': '20250510', 'trade_time_kst': '141024', 'trade_timestamp': 1746886224586, 'opening_price': 1227, 'high_price': 1294, 'low_price': 1218, 'trade_price': 1280, 'prev_closing_price': 1229, 'change': 'RISE', 'change_price': 51, 'change_rate': 0.0415, 'signed_change_price': 51, 'signed_change_rate': 0.0415, 'trade_volume': 288.3898, 'acc_trade_price': 390642057.652991, 'acc_trade_price_24h': 977314988.5800278, 'acc_trade_volume': 311620.7955298945, 'acc_trade_volume_24h': 791256.9042377024, 'highest_52_week_price': 4800, 'highest_52_week_date': '2024-12-08', 'lowest_52_week_price': 869, 'lowest_52_week_date': '2025-04-23', 'timestamp': 1746854068281}]\n",
      "[{'market': 'KRW-CVC', 'trade_date': '20250510', 'trade_time': '043334', 'trade_date_kst': '20250510', 'trade_time_kst': '133334', 'trade_timestamp': 1746884014882, 'opening_price': 160, 'high_price': 166, 'low_price': 157, 'trade_price': 161, 'prev_closing_price': 159, 'change': 'RISE', 'change_price': 2, 'change_rate': 0.0126, 'signed_change_price': 2, 'signed_change_rate': 0.0126, 'trade_volume': 497.7565, 'acc_trade_price': 91545037.93161169, 'acc_trade_price_24h': 286380763.57869345, 'acc_trade_volume': 565825.19173348, 'acc_trade_volume_24h': 1774200.9725218, 'highest_52_week_price': 375, 'highest_52_week_date': '2025-01-02', 'lowest_52_week_price': 103, 'lowest_52_week_date': '2024-08-06', 'timestamp': 1746854068358}]\n",
      "[{'market': 'KRW-WAVES', 'trade_date': '20250510', 'trade_time': '051425', 'trade_date_kst': '20250510', 'trade_time_kst': '141425', 'trade_timestamp': 1746886465841, 'opening_price': 1675, 'high_price': 1746, 'low_price': 1660, 'trade_price': 1688, 'prev_closing_price': 1676, 'change': 'RISE', 'change_price': 12, 'change_rate': 0.0072, 'signed_change_price': 12, 'signed_change_rate': 0.0072, 'trade_volume': 138.898, 'acc_trade_price': 935129216.1174269, 'acc_trade_price_24h': 1691599083.6336908, 'acc_trade_volume': 553226.87765936, 'acc_trade_volume_24h': 1005999.60056675, 'highest_52_week_price': 4100, 'highest_52_week_date': '2024-11-30', 'lowest_52_week_price': 1086, 'lowest_52_week_date': '2024-07-06', 'timestamp': 1746854068425}]\n",
      "[{'market': 'KRW-LINK', 'trade_date': '20250510', 'trade_time': '051407', 'trade_date_kst': '20250510', 'trade_time_kst': '141407', 'trade_timestamp': 1746886447088, 'opening_price': 22340, 'high_price': 22770, 'low_price': 22110, 'trade_price': 22340, 'prev_closing_price': 22320, 'change': 'RISE', 'change_price': 20, 'change_rate': 0.0009, 'signed_change_price': 20, 'signed_change_rate': 0.0009, 'trade_volume': 7.503, 'acc_trade_price': 3047995273.8849607, 'acc_trade_price_24h': 6715503996.3304205, 'acc_trade_volume': 136174.0509800738, 'acc_trade_volume_24h': 298272.7647944199, 'highest_52_week_price': 44600, 'highest_52_week_date': '2024-12-17', 'lowest_52_week_price': 11720, 'lowest_52_week_date': '2024-08-06', 'timestamp': 1746854068648}]\n",
      "[{'market': 'KRW-ENJ', 'trade_date': '20250510', 'trade_time': '050914', 'trade_date_kst': '20250510', 'trade_time_kst': '140914', 'trade_timestamp': 1746886154533, 'opening_price': 126, 'high_price': 132, 'low_price': 124, 'trade_price': 129, 'prev_closing_price': 125, 'change': 'RISE', 'change_price': 4, 'change_rate': 0.032, 'signed_change_price': 4, 'signed_change_rate': 0.032, 'trade_volume': 15497.6744186, 'acc_trade_price': 274466260.73661774, 'acc_trade_price_24h': 601907217.8349565, 'acc_trade_volume': 2140948.6192739634, 'acc_trade_volume_24h': 4761297.300756583, 'highest_52_week_price': 556, 'highest_52_week_date': '2024-12-07', 'lowest_52_week_price': 86, 'lowest_52_week_date': '2025-04-18', 'timestamp': 1746854068903}]\n",
      "[{'market': 'KRW-VET', 'trade_date': '20250510', 'trade_time': '051339', 'trade_date_kst': '20250510', 'trade_time_kst': '141339', 'trade_timestamp': 1746886419042, 'opening_price': 41.16, 'high_price': 42.7, 'low_price': 40.82, 'trade_price': 42.16, 'prev_closing_price': 41.12, 'change': 'RISE', 'change_price': 1.04, 'change_rate': 0.0253, 'signed_change_price': 1.04, 'signed_change_rate': 0.0253, 'trade_volume': 2540, 'acc_trade_price': 544856580.9794815, 'acc_trade_price_24h': 1403706562.1187088, 'acc_trade_volume': 12971547.367143093, 'acc_trade_volume_24h': 33720757.856142424, 'highest_52_week_price': 113, 'highest_52_week_date': '2024-12-05', 'lowest_52_week_price': 26.5, 'lowest_52_week_date': '2024-09-08', 'timestamp': 1746854069071}]\n",
      "[{'market': 'KRW-MTL', 'trade_date': '20250510', 'trade_time': '051214', 'trade_date_kst': '20250510', 'trade_time_kst': '141214', 'trade_timestamp': 1746886334668, 'opening_price': 1254, 'high_price': 1295, 'low_price': 1238, 'trade_price': 1268, 'prev_closing_price': 1248, 'change': 'RISE', 'change_price': 20, 'change_rate': 0.016, 'signed_change_price': 20, 'signed_change_rate': 0.016, 'trade_volume': 348.69953688, 'acc_trade_price': 248210831.17136815, 'acc_trade_price_24h': 897491427.111455, 'acc_trade_volume': 197046.20514516, 'acc_trade_volume_24h': 716690.02862001, 'highest_52_week_price': 2855, 'highest_52_week_date': '2024-05-30', 'lowest_52_week_price': 884, 'lowest_52_week_date': '2025-04-08', 'timestamp': 1746854069147}]\n",
      "[{'market': 'KRW-IOST', 'trade_date': '20250510', 'trade_time': '051425', 'trade_date_kst': '20250510', 'trade_time_kst': '141425', 'trade_timestamp': 1746886465531, 'opening_price': 5.733, 'high_price': 6.259, 'low_price': 5.73, 'trade_price': 6.04, 'prev_closing_price': 5.732, 'change': 'RISE', 'change_price': 0.308, 'change_rate': 0.0537, 'signed_change_price': 0.308, 'signed_change_rate': 0.0537, 'trade_volume': 7200, 'acc_trade_price': 250892106.48438373, 'acc_trade_price_24h': 383403099.1457441, 'acc_trade_volume': 41444093.16214208, 'acc_trade_volume_24h': 64382635.03017018, 'highest_52_week_price': 17.24, 'highest_52_week_date': '2024-12-06', 'lowest_52_week_price': 4.262, 'lowest_52_week_date': '2025-04-08', 'timestamp': 1746854069217}]\n"
     ]
    }
   ],
   "source": [
    "from client import *\n",
    "from kafka import KafkaProducer\n",
    "from json import dumps\n",
    "\n",
    "\n",
    "TOPIC_NAME = \"transction\"\n",
    "BROKERS = [\"15.164.218.105:9091\", \"15.164.218.105:9092\", \"15.164.218.105:9093\"]\n",
    "\n",
    "for ticker in Api.get_tickers():\n",
    "    print(Api.get_price(ticker))\n"
   ]
  },
  {
   "cell_type": "code",
   "execution_count": null,
   "id": "1d2001f5",
   "metadata": {},
   "outputs": [
    {
     "data": {
      "text/plain": [
       "{'market': 'KRW-BTC',\n",
       " 'trade_date': '20250509',\n",
       " 'trade_time': '062351',\n",
       " 'trade_date_kst': '20250509',\n",
       " 'trade_time_kst': '152351',\n",
       " 'trade_timestamp': 1746804231910,\n",
       " 'opening_price': 139823000,\n",
       " 'high_price': 145480000,\n",
       " 'low_price': 139695000,\n",
       " 'trade_price': 144692000,\n",
       " 'prev_closing_price': 139823000,\n",
       " 'change': 'RISE',\n",
       " 'change_price': 4869000,\n",
       " 'change_rate': 0.0348,\n",
       " 'signed_change_price': 4869000,\n",
       " 'signed_change_rate': 0.0348,\n",
       " 'trade_volume': 6.911e-05,\n",
       " 'acc_trade_price': 137780260060.2191,\n",
       " 'acc_trade_price_24h': 190324505586.60767,\n",
       " 'acc_trade_volume': 960.32963752,\n",
       " 'acc_trade_volume_24h': 1335.2663663,\n",
       " 'highest_52_week_price': 163460000,\n",
       " 'highest_52_week_date': '2025-01-21',\n",
       " 'lowest_52_week_price': 71573000,\n",
       " 'lowest_52_week_date': '2024-08-06',\n",
       " 'timestamp': 1746771834904}"
      ]
     },
     "execution_count": 14,
     "metadata": {},
     "output_type": "execute_result"
    }
   ],
   "source": [
    "\"\"\"\n",
    "producer = KafkaProducer(acks=0,\n",
    "                         bootstrap_servers = BROKERS,\n",
    "                         value_serializer=lambda x:dumps(x).encode('utf-8') \n",
    "                         )\n",
    "\n",
    "producer.send(TOPIC_NAME, test)\n",
    "producer.flush()\n",
    "\"\"\""
   ]
  },
  {
   "cell_type": "code",
   "execution_count": null,
   "id": "10671853",
   "metadata": {},
   "outputs": [],
   "source": []
  }
 ],
 "metadata": {
  "kernelspec": {
   "display_name": "base",
   "language": "python",
   "name": "python3"
  },
  "language_info": {
   "codemirror_mode": {
    "name": "ipython",
    "version": 3
   },
   "file_extension": ".py",
   "mimetype": "text/x-python",
   "name": "python",
   "nbconvert_exporter": "python",
   "pygments_lexer": "ipython3",
   "version": "3.9.7"
  }
 },
 "nbformat": 4,
 "nbformat_minor": 5
}
