{
 "cells": [
  {
   "cell_type": "code",
   "execution_count": null,
   "id": "5b0b7779",
   "metadata": {},
   "outputs": [
    {
     "name": "stdout",
     "output_type": "stream",
     "text": [
      "{'market': 'KRW-BTC', 'trade_date': '20250510', 'trade_time': '071825', 'trade_date_kst': '20250510', 'trade_time_kst': '161825', 'trade_timestamp': 1746893905126, 'opening_price': 144520000, 'high_price': 145302000, 'low_price': 143702000, 'trade_price': 145016000, 'prev_closing_price': 144520000, 'change': 'RISE', 'change_price': 496000, 'change_rate': 0.0034, 'signed_change_price': 496000, 'signed_change_rate': 0.0034, 'trade_volume': 0.00034394, 'acc_trade_price': 38642624474.42264, 'acc_trade_price_24h': 101456622342.28896, 'acc_trade_volume': 267.83911513, 'acc_trade_volume_24h': 702.04127158, 'highest_52_week_price': 163460000, 'highest_52_week_date': '2025-01-21', 'lowest_52_week_price': 71573000, 'lowest_52_week_date': '2024-08-06', 'timestamp': 1746861506928}\n",
      "{'market': 'KRW-ETH', 'trade_date': '20250510', 'trade_time': '071822', 'trade_date_kst': '20250510', 'trade_time_kst': '161822', 'trade_timestamp': 1746893902666, 'opening_price': 3234000, 'high_price': 3328000, 'low_price': 3195000, 'trade_price': 3301000, 'prev_closing_price': 3234000, 'change': 'RISE', 'change_price': 67000, 'change_rate': 0.0207, 'signed_change_price': 67000, 'signed_change_rate': 0.0207, 'trade_volume': 0.68609651, 'acc_trade_price': 46117432568.033394, 'acc_trade_price_24h': 142210429169.31903, 'acc_trade_volume': 14109.775319408378, 'acc_trade_volume_24h': 43097.72931804581, 'highest_52_week_price': 5895000, 'highest_52_week_date': '2024-12-18', 'lowest_52_week_price': 2091000, 'lowest_52_week_date': '2025-04-10', 'timestamp': 1746861507051}\n",
      "{'market': 'KRW-ETC', 'trade_date': '20250510', 'trade_time': '071825', 'trade_date_kst': '20250510', 'trade_time_kst': '161825', 'trade_timestamp': 1746893905417, 'opening_price': 26650, 'high_price': 27240, 'low_price': 25000, 'trade_price': 27130, 'prev_closing_price': 26650, 'change': 'RISE', 'change_price': 480, 'change_rate': 0.018, 'signed_change_price': 480, 'signed_change_rate': 0.018, 'trade_volume': 8.90176748, 'acc_trade_price': 2677600323.675962, 'acc_trade_price_24h': 7715400883.161822, 'acc_trade_volume': 99903.84657795634, 'acc_trade_volume_24h': 287104.77440476214, 'highest_52_week_price': 55500, 'highest_52_week_date': '2024-12-08', 'lowest_52_week_price': 19120, 'lowest_52_week_date': '2025-04-08', 'timestamp': 1746861507189}\n",
      "{'market': 'KRW-XRP', 'trade_date': '20250510', 'trade_time': '071825', 'trade_date_kst': '20250510', 'trade_time_kst': '161825', 'trade_timestamp': 1746893905288, 'opening_price': 3300, 'high_price': 3344, 'low_price': 3260, 'trade_price': 3336, 'prev_closing_price': 3300, 'change': 'RISE', 'change_price': 36, 'change_rate': 0.0109, 'signed_change_price': 36, 'signed_change_rate': 0.0109, 'trade_volume': 1.903e-05, 'acc_trade_price': 109965571198.74998, 'acc_trade_price_24h': 303674682616.1834, 'acc_trade_volume': 33360049.62935489, 'acc_trade_volume_24h': 91535432.12647334, 'highest_52_week_price': 4987, 'highest_52_week_date': '2025-01-22', 'lowest_52_week_price': 559, 'lowest_52_week_date': '2024-07-06', 'timestamp': 1746861507314}\n",
      "{'market': 'KRW-BCH', 'trade_date': '20250510', 'trade_time': '071815', 'trade_date_kst': '20250510', 'trade_time_kst': '161815', 'trade_timestamp': 1746893895311, 'opening_price': 572000, 'high_price': 594000, 'low_price': 567000, 'trade_price': 589000, 'prev_closing_price': 572000, 'change': 'RISE', 'change_price': 17000, 'change_rate': 0.0297, 'signed_change_price': 17000, 'signed_change_rate': 0.0297, 'trade_volume': 0.7513824, 'acc_trade_price': 1268611167.36921, 'acc_trade_price_24h': 4262090963.89468, 'acc_trade_volume': 2198.76735783, 'acc_trade_volume_24h': 7332.1264866, 'highest_52_week_price': 891000, 'highest_52_week_date': '2024-12-08', 'lowest_52_week_price': 374200, 'lowest_52_week_date': '2025-04-08', 'timestamp': 1746861507598}\n",
      "{'market': 'KRW-QTUM', 'trade_date': '20250510', 'trade_time': '071756', 'trade_date_kst': '20250510', 'trade_time_kst': '161756', 'trade_timestamp': 1746893876920, 'opening_price': 3459, 'high_price': 3560, 'low_price': 3419, 'trade_price': 3535, 'prev_closing_price': 3456, 'change': 'RISE', 'change_price': 79, 'change_rate': 0.0229, 'signed_change_price': 79, 'signed_change_rate': 0.0229, 'trade_volume': 7.404e-05, 'acc_trade_price': 1052064855.8223748, 'acc_trade_price_24h': 1838479393.8757057, 'acc_trade_volume': 301648.1924311, 'acc_trade_volume_24h': 531600.77164682, 'highest_52_week_price': 8055, 'highest_52_week_date': '2024-12-05', 'lowest_52_week_price': 2365, 'lowest_52_week_date': '2025-04-08', 'timestamp': 1746861507742}\n",
      "{'market': 'KRW-EOS', 'trade_date': '20250510', 'trade_time': '071825', 'trade_date_kst': '20250510', 'trade_time_kst': '161825', 'trade_timestamp': 1746893905745, 'opening_price': 1192, 'high_price': 1396, 'low_price': 1182, 'trade_price': 1354, 'prev_closing_price': 1192, 'change': 'RISE', 'change_price': 162, 'change_rate': 0.1359, 'signed_change_price': 162, 'signed_change_rate': 0.1359, 'trade_volume': 4.2259844, 'acc_trade_price': 10836644975.466154, 'acc_trade_price_24h': 14581451302.933474, 'acc_trade_volume': 8405028.82148697, 'acc_trade_volume_24h': 11526005.64181475, 'highest_52_week_price': 2167, 'highest_52_week_date': '2024-12-05', 'lowest_52_week_price': 558, 'lowest_52_week_date': '2024-11-06', 'timestamp': 1746861507871}\n",
      "{'market': 'KRW-ICX', 'trade_date': '20250510', 'trade_time': '071701', 'trade_date_kst': '20250510', 'trade_time_kst': '161701', 'trade_timestamp': 1746893821900, 'opening_price': 151, 'high_price': 156, 'low_price': 148, 'trade_price': 155, 'prev_closing_price': 150, 'change': 'RISE', 'change_price': 5, 'change_rate': 0.0333, 'signed_change_price': 5, 'signed_change_rate': 0.0333, 'trade_volume': 64.46451613, 'acc_trade_price': 213147550.09699193, 'acc_trade_price_24h': 306224897.8456993, 'acc_trade_volume': 1404426.4814347257, 'acc_trade_volume_24h': 2023327.2020433575, 'highest_52_week_price': 414, 'highest_52_week_date': '2024-12-05', 'lowest_52_week_price': 106, 'lowest_52_week_date': '2025-04-08', 'timestamp': 1746861507988}\n",
      "{'market': 'KRW-TRX', 'trade_date': '20250510', 'trade_time': '071813', 'trade_date_kst': '20250510', 'trade_time_kst': '161813', 'trade_timestamp': 1746893893246, 'opening_price': 368, 'high_price': 370, 'low_price': 363, 'trade_price': 367, 'prev_closing_price': 367, 'change': 'EVEN', 'change_price': 0, 'change_rate': 0, 'signed_change_price': 0, 'signed_change_rate': 0.0, 'trade_volume': 18089.56591175, 'acc_trade_price': 2480233977.7596264, 'acc_trade_price_24h': 7064422347.324725, 'acc_trade_volume': 6759658.74085894, 'acc_trade_volume_24h': 19347251.82685471, 'highest_52_week_price': 650, 'highest_52_week_date': '2024-12-05', 'lowest_52_week_price': 153, 'lowest_52_week_date': '2024-05-29', 'timestamp': 1746861508139}\n",
      "{'market': 'KRW-ELF', 'trade_date': '20250510', 'trade_time': '071757', 'trade_date_kst': '20250510', 'trade_time_kst': '161757', 'trade_timestamp': 1746893877087, 'opening_price': 342, 'high_price': 349, 'low_price': 340, 'trade_price': 348, 'prev_closing_price': 342, 'change': 'RISE', 'change_price': 6, 'change_rate': 0.0175, 'signed_change_price': 6, 'signed_change_rate': 0.0175, 'trade_volume': 400, 'acc_trade_price': 70736561.38553157, 'acc_trade_price_24h': 176321518.94456512, 'acc_trade_volume': 204933.35571854, 'acc_trade_volume_24h': 513385.93674439, 'highest_52_week_price': 1250, 'highest_52_week_date': '2024-11-27', 'lowest_52_week_price': 302, 'lowest_52_week_date': '2025-04-10', 'timestamp': 1746861508442}\n",
      "{'market': 'KRW-KNC', 'trade_date': '20250510', 'trade_time': '064743', 'trade_date_kst': '20250510', 'trade_time_kst': '154743', 'trade_timestamp': 1746892063494, 'opening_price': 555, 'high_price': 575, 'low_price': 549, 'trade_price': 572, 'prev_closing_price': 551, 'change': 'RISE', 'change_price': 21, 'change_rate': 0.0381, 'signed_change_price': 21, 'signed_change_rate': 0.0381, 'trade_volume': 2.48251749, 'acc_trade_price': 32387840.89468085, 'acc_trade_price_24h': 47057321.25432566, 'acc_trade_volume': 57670.40112917, 'acc_trade_volume_24h': 84085.15904453349, 'highest_52_week_price': 1441, 'highest_52_week_date': '2024-12-05', 'lowest_52_week_price': 390, 'lowest_52_week_date': '2025-04-08', 'timestamp': 1746861508773}\n",
      "{'market': 'KRW-GLM', 'trade_date': '20250510', 'trade_time': '071349', 'trade_date_kst': '20250510', 'trade_time_kst': '161349', 'trade_timestamp': 1746893629685, 'opening_price': 401, 'high_price': 407, 'low_price': 397, 'trade_price': 403, 'prev_closing_price': 399, 'change': 'RISE', 'change_price': 4, 'change_rate': 0.01, 'signed_change_price': 4, 'signed_change_rate': 0.01, 'trade_volume': 12.87128712, 'acc_trade_price': 135737352.13701254, 'acc_trade_price_24h': 273229355.91381663, 'acc_trade_volume': 338311.1679066422, 'acc_trade_volume_24h': 683137.2075323878, 'highest_52_week_price': 930, 'highest_52_week_date': '2024-11-27', 'lowest_52_week_price': 305, 'lowest_52_week_date': '2025-04-08', 'timestamp': 1746861508903}\n",
      "{'market': 'KRW-ZIL', 'trade_date': '20250510', 'trade_time': '071020', 'trade_date_kst': '20250510', 'trade_time_kst': '161020', 'trade_timestamp': 1746893420645, 'opening_price': 19.51, 'high_price': 20.17, 'low_price': 19.36, 'trade_price': 20.04, 'prev_closing_price': 19.5, 'change': 'RISE', 'change_price': 0.54, 'change_rate': 0.0277, 'signed_change_price': 0.54, 'signed_change_rate': 0.0277, 'trade_volume': 523.01255231, 'acc_trade_price': 60651058.78085786, 'acc_trade_price_24h': 114459824.50946477, 'acc_trade_volume': 3056047.3660666263, 'acc_trade_volume_24h': 5823916.590077333, 'highest_52_week_price': 52.43, 'highest_52_week_date': '2024-12-04', 'lowest_52_week_price': 13.83, 'lowest_52_week_date': '2025-04-08', 'timestamp': 1746861509024}\n",
      "{'market': 'KRW-WAXP', 'trade_date': '20250510', 'trade_time': '071718', 'trade_date_kst': '20250510', 'trade_time_kst': '161718', 'trade_timestamp': 1746893838840, 'opening_price': 36.16, 'high_price': 36.99, 'low_price': 35.82, 'trade_price': 36.75, 'prev_closing_price': 35.97, 'change': 'RISE', 'change_price': 0.78, 'change_rate': 0.0217, 'signed_change_price': 0.78, 'signed_change_rate': 0.0217, 'trade_volume': 4700, 'acc_trade_price': 136419984.5040493, 'acc_trade_price_24h': 242235626.4252708, 'acc_trade_volume': 3749448.86835656, 'acc_trade_volume_24h': 6686948.02393615, 'highest_52_week_price': 101, 'highest_52_week_date': '2024-12-05', 'lowest_52_week_price': 25.01, 'lowest_52_week_date': '2025-04-08', 'timestamp': 1746861509141}\n",
      "{'market': 'KRW-POWR', 'trade_date': '20250510', 'trade_time': '071455', 'trade_date_kst': '20250510', 'trade_time_kst': '161455', 'trade_timestamp': 1746893695988, 'opening_price': 269, 'high_price': 277, 'low_price': 268, 'trade_price': 276, 'prev_closing_price': 269, 'change': 'RISE', 'change_price': 7, 'change_rate': 0.026, 'signed_change_price': 7, 'signed_change_rate': 0.026, 'trade_volume': 7096.23044894, 'acc_trade_price': 82742981.59421252, 'acc_trade_price_24h': 183391025.61771336, 'acc_trade_volume': 302998.76043723, 'acc_trade_volume_24h': 676444.86461888, 'highest_52_week_price': 575, 'highest_52_week_date': '2024-11-27', 'lowest_52_week_price': 188, 'lowest_52_week_date': '2025-04-08', 'timestamp': 1746861509283}\n",
      "{'market': 'KRW-LRC', 'trade_date': '20250510', 'trade_time': '071412', 'trade_date_kst': '20250510', 'trade_time_kst': '161412', 'trade_timestamp': 1746893652131, 'opening_price': 162, 'high_price': 166, 'low_price': 158, 'trade_price': 163, 'prev_closing_price': 163, 'change': 'EVEN', 'change_price': 0, 'change_rate': 0, 'signed_change_price': 0, 'signed_change_rate': 0.0, 'trade_volume': 30.67484662, 'acc_trade_price': 188766824.4071737, 'acc_trade_price_24h': 465826973.27604234, 'acc_trade_volume': 1169148.8065244623, 'acc_trade_volume_24h': 2879098.9623754937, 'highest_52_week_price': 468, 'highest_52_week_date': '2024-12-05', 'lowest_52_week_price': 114, 'lowest_52_week_date': '2025-04-10', 'timestamp': 1746861509422}\n",
      "{'market': 'KRW-STEEM', 'trade_date': '20250510', 'trade_time': '065759', 'trade_date_kst': '20250510', 'trade_time_kst': '155759', 'trade_timestamp': 1746892679153, 'opening_price': 215, 'high_price': 221, 'low_price': 214, 'trade_price': 221, 'prev_closing_price': 214, 'change': 'RISE', 'change_price': 7, 'change_rate': 0.0327, 'signed_change_price': 7, 'signed_change_rate': 0.0327, 'trade_volume': 41.46646957, 'acc_trade_price': 142443206.70179135, 'acc_trade_price_24h': 336968989.66181165, 'acc_trade_volume': 654679.41236945, 'acc_trade_volume_24h': 1561468.85505331, 'highest_52_week_price': 570, 'highest_52_week_date': '2024-12-30', 'lowest_52_week_price': 152, 'lowest_52_week_date': '2025-04-08', 'timestamp': 1746861509718}\n",
      "{'market': 'KRW-ZRX', 'trade_date': '20250510', 'trade_time': '055821', 'trade_date_kst': '20250510', 'trade_time_kst': '145821', 'trade_timestamp': 1746889101835, 'opening_price': 410, 'high_price': 422, 'low_price': 407, 'trade_price': 415, 'prev_closing_price': 409, 'change': 'RISE', 'change_price': 6, 'change_rate': 0.0147, 'signed_change_price': 6, 'signed_change_rate': 0.0147, 'trade_volume': 340.227496, 'acc_trade_price': 150937357.87804455, 'acc_trade_price_24h': 268257298.7244501, 'acc_trade_volume': 362657.68382776325, 'acc_trade_volume_24h': 647130.2614389193, 'highest_52_week_price': 1332, 'highest_52_week_date': '2024-12-07', 'lowest_52_week_price': 289, 'lowest_52_week_date': '2025-04-08', 'timestamp': 1746861509874}\n",
      "{'market': 'KRW-SNT', 'trade_date': '20250510', 'trade_time': '071824', 'trade_date_kst': '20250510', 'trade_time_kst': '161824', 'trade_timestamp': 1746893904416, 'opening_price': 33.07, 'high_price': 35.45, 'low_price': 32.85, 'trade_price': 33.6, 'prev_closing_price': 33.16, 'change': 'RISE', 'change_price': 0.44, 'change_rate': 0.0133, 'signed_change_price': 0.44, 'signed_change_rate': 0.0133, 'trade_volume': 297.61904762, 'acc_trade_price': 623551340.5911896, 'acc_trade_price_24h': 865709377.3807049, 'acc_trade_volume': 18400445.837454308, 'acc_trade_volume_24h': 25725021.85603303, 'highest_52_week_price': 120, 'highest_52_week_date': '2024-12-10', 'lowest_52_week_price': 23.41, 'lowest_52_week_date': '2024-08-06', 'timestamp': 1746861510193}\n",
      "{'market': 'KRW-ADA', 'trade_date': '20250510', 'trade_time': '071827', 'trade_date_kst': '20250510', 'trade_time_kst': '161827', 'trade_timestamp': 1746893907698, 'opening_price': 1095, 'high_price': 1116, 'low_price': 1079, 'trade_price': 1111, 'prev_closing_price': 1096, 'change': 'RISE', 'change_price': 15, 'change_rate': 0.0137, 'signed_change_price': 15, 'signed_change_rate': 0.0137, 'trade_volume': 5.40540541, 'acc_trade_price': 6302036072.332275, 'acc_trade_price_24h': 16594396160.289478, 'acc_trade_volume': 5759958.45681651, 'acc_trade_volume_24h': 15043893.75953522, 'highest_52_week_price': 1931, 'highest_52_week_date': '2024-12-04', 'lowest_52_week_price': 398, 'lowest_52_week_date': '2024-08-06', 'timestamp': 1746861510466}\n",
      "{'market': 'KRW-CTXC', 'trade_date': '20250510', 'trade_time': '071800', 'trade_date_kst': '20250510', 'trade_time_kst': '161800', 'trade_timestamp': 1746893880707, 'opening_price': 117, 'high_price': 117, 'low_price': 113, 'trade_price': 117, 'prev_closing_price': 116, 'change': 'RISE', 'change_price': 1, 'change_rate': 0.0086, 'signed_change_price': 1, 'signed_change_rate': 0.0086, 'trade_volume': 120.64113221, 'acc_trade_price': 358020514.1681274, 'acc_trade_price_24h': 678315533.1088307, 'acc_trade_volume': 3109656.699634615, 'acc_trade_volume_24h': 5898652.472779031, 'highest_52_week_price': 1550, 'highest_52_week_date': '2024-12-16', 'lowest_52_week_price': 79.34, 'lowest_52_week_date': '2025-04-18', 'timestamp': 1746861510592}\n",
      "{'market': 'KRW-BAT', 'trade_date': '20250510', 'trade_time': '070422', 'trade_date_kst': '20250510', 'trade_time_kst': '160422', 'trade_timestamp': 1746893062597, 'opening_price': 223, 'high_price': 230, 'low_price': 221, 'trade_price': 227, 'prev_closing_price': 223, 'change': 'RISE', 'change_price': 4, 'change_rate': 0.0179, 'signed_change_price': 4, 'signed_change_rate': 0.0179, 'trade_volume': 218.09252478, 'acc_trade_price': 102673468.18564153, 'acc_trade_price_24h': 142002321.38311908, 'acc_trade_volume': 455842.72515422944, 'acc_trade_volume_24h': 631507.017484469, 'highest_52_week_price': 527, 'highest_52_week_date': '2024-12-08', 'lowest_52_week_price': 163, 'lowest_52_week_date': '2025-04-08', 'timestamp': 1746861510725}\n",
      "{'market': 'KRW-THETA', 'trade_date': '20250510', 'trade_time': '071807', 'trade_date_kst': '20250510', 'trade_time_kst': '161807', 'trade_timestamp': 1746893887529, 'opening_price': 1227, 'high_price': 1325, 'low_price': 1218, 'trade_price': 1318, 'prev_closing_price': 1229, 'change': 'RISE', 'change_price': 89, 'change_rate': 0.0724, 'signed_change_price': 89, 'signed_change_rate': 0.0724, 'trade_volume': 75.47232753, 'acc_trade_price': 446528235.7293729, 'acc_trade_price_24h': 938910713.7067567, 'acc_trade_volume': 354286.8784583344, 'acc_trade_volume_24h': 755482.7694590543, 'highest_52_week_price': 4800, 'highest_52_week_date': '2024-12-08', 'lowest_52_week_price': 869, 'lowest_52_week_date': '2025-04-23', 'timestamp': 1746861510859}\n",
      "{'market': 'KRW-CVC', 'trade_date': '20250510', 'trade_time': '071749', 'trade_date_kst': '20250510', 'trade_time_kst': '161749', 'trade_timestamp': 1746893869528, 'opening_price': 160, 'high_price': 166, 'low_price': 157, 'trade_price': 163, 'prev_closing_price': 159, 'change': 'RISE', 'change_price': 4, 'change_rate': 0.0252, 'signed_change_price': 4, 'signed_change_rate': 0.0252, 'trade_volume': 2484.4512, 'acc_trade_price': 120702867.0058079, 'acc_trade_price_24h': 305830274.9588261, 'acc_trade_volume': 744885.50422013, 'acc_trade_volume_24h': 1892164.79370639, 'highest_52_week_price': 375, 'highest_52_week_date': '2025-01-02', 'lowest_52_week_price': 103, 'lowest_52_week_date': '2024-08-06', 'timestamp': 1746861510991}\n",
      "{'market': 'KRW-WAVES', 'trade_date': '20250510', 'trade_time': '071547', 'trade_date_kst': '20250510', 'trade_time_kst': '161547', 'trade_timestamp': 1746893747193, 'opening_price': 1675, 'high_price': 1746, 'low_price': 1660, 'trade_price': 1709, 'prev_closing_price': 1676, 'change': 'RISE', 'change_price': 33, 'change_rate': 0.0197, 'signed_change_price': 33, 'signed_change_rate': 0.0197, 'trade_volume': 2.9996, 'acc_trade_price': 1129044659.9038222, 'acc_trade_price_24h': 1808949405.0174065, 'acc_trade_volume': 667004.20642637, 'acc_trade_volume_24h': 1073461.32487581, 'highest_52_week_price': 4100, 'highest_52_week_date': '2024-11-30', 'lowest_52_week_price': 1086, 'lowest_52_week_date': '2024-07-06', 'timestamp': 1746861511146}\n",
      "{'market': 'KRW-LINK', 'trade_date': '20250510', 'trade_time': '071822', 'trade_date_kst': '20250510', 'trade_time_kst': '161822', 'trade_timestamp': 1746893902378, 'opening_price': 22340, 'high_price': 22810, 'low_price': 22110, 'trade_price': 22740, 'prev_closing_price': 22320, 'change': 'RISE', 'change_price': 420, 'change_rate': 0.0188, 'signed_change_price': 420, 'signed_change_rate': 0.0188, 'trade_volume': 5.557e-05, 'acc_trade_price': 3445858936.4065037, 'acc_trade_price_24h': 6687754914.453411, 'acc_trade_volume': 153781.21318637306, 'acc_trade_volume_24h': 296624.7360995772, 'highest_52_week_price': 44600, 'highest_52_week_date': '2024-12-17', 'lowest_52_week_price': 11720, 'lowest_52_week_date': '2024-08-06', 'timestamp': 1746861511480}\n",
      "{'market': 'KRW-ENJ', 'trade_date': '20250510', 'trade_time': '071724', 'trade_date_kst': '20250510', 'trade_time_kst': '161724', 'trade_timestamp': 1746893844749, 'opening_price': 126, 'high_price': 132, 'low_price': 124, 'trade_price': 130, 'prev_closing_price': 125, 'change': 'RISE', 'change_price': 5, 'change_rate': 0.04, 'signed_change_price': 5, 'signed_change_rate': 0.04, 'trade_volume': 3098.41538462, 'acc_trade_price': 284954024.6475761, 'acc_trade_price_24h': 578056799.3774464, 'acc_trade_volume': 2221522.3678775835, 'acc_trade_volume_24h': 4555467.392625164, 'highest_52_week_price': 556, 'highest_52_week_date': '2024-12-07', 'lowest_52_week_price': 86, 'lowest_52_week_date': '2025-04-18', 'timestamp': 1746861511702}\n",
      "{'market': 'KRW-VET', 'trade_date': '20250510', 'trade_time': '071806', 'trade_date_kst': '20250510', 'trade_time_kst': '161806', 'trade_timestamp': 1746893886130, 'opening_price': 41.16, 'high_price': 43.04, 'low_price': 40.82, 'trade_price': 42.86, 'prev_closing_price': 41.12, 'change': 'RISE', 'change_price': 1.74, 'change_rate': 0.0423, 'signed_change_price': 1.74, 'signed_change_rate': 0.0423, 'trade_volume': 8035, 'acc_trade_price': 559100088.7656755, 'acc_trade_price_24h': 1380668076.6321852, 'acc_trade_volume': 13304407.842618002, 'acc_trade_volume_24h': 33137972.485515837, 'highest_52_week_price': 113, 'highest_52_week_date': '2024-12-05', 'lowest_52_week_price': 26.5, 'lowest_52_week_date': '2024-09-08', 'timestamp': 1746861511950}\n",
      "{'market': 'KRW-MTL', 'trade_date': '20250510', 'trade_time': '071731', 'trade_date_kst': '20250510', 'trade_time_kst': '161731', 'trade_timestamp': 1746893851195, 'opening_price': 1254, 'high_price': 1295, 'low_price': 1238, 'trade_price': 1273, 'prev_closing_price': 1248, 'change': 'RISE', 'change_price': 25, 'change_rate': 0.02, 'signed_change_price': 25, 'signed_change_rate': 0.02, 'trade_volume': 2.87243939, 'acc_trade_price': 277946877.1862202, 'acc_trade_price_24h': 844475597.2365438, 'acc_trade_volume': 220412.145239, 'acc_trade_volume_24h': 672389.08433666, 'highest_52_week_price': 2855, 'highest_52_week_date': '2024-05-30', 'lowest_52_week_price': 884, 'lowest_52_week_date': '2025-04-08', 'timestamp': 1746861512097}\n",
      "{'market': 'KRW-IOST', 'trade_date': '20250510', 'trade_time': '071746', 'trade_date_kst': '20250510', 'trade_time_kst': '161746', 'trade_timestamp': 1746893866940, 'opening_price': 5.733, 'high_price': 6.259, 'low_price': 5.73, 'trade_price': 6.08, 'prev_closing_price': 5.732, 'change': 'RISE', 'change_price': 0.348, 'change_rate': 0.0607, 'signed_change_price': 0.348, 'signed_change_rate': 0.0607, 'trade_volume': 8727.983, 'acc_trade_price': 283610315.4699256, 'acc_trade_price_24h': 409941075.9603759, 'acc_trade_volume': 46827992.39682085, 'acc_trade_volume_24h': 68679455.6790246, 'highest_52_week_price': 17.24, 'highest_52_week_date': '2024-12-06', 'lowest_52_week_price': 4.262, 'lowest_52_week_date': '2025-04-08', 'timestamp': 1746861512310}\n"
     ]
    }
   ],
   "source": [
    "from client import Api\n",
    "from kafka import KafkaProducer\n",
    "from json import dumps\n",
    "from kafka.errors import KafkaError\n",
    "import functools\n",
    "import time\n",
    "import os\n",
    "\n",
    "BROKER_LIST = [\"15.164.218.105:9091\", \"15.164.218.105:9092\", \"15.164.218.105:9093\"]\n",
    "TOPIC = \"transction\"\n",
    "\n",
    "def retry_with_backoff(max_retries: int = 5,\n",
    "                       initial_backoff: float = 1.0,\n",
    "                       max_backoff: float = 30.0):\n",
    "    \"\"\"\n",
    "    예외 발생 시 지수적 백오프를 사용하여 함수를 다시 시도하는 데코레이터입니다.\n",
    "    \"\"\"\n",
    "    def decorator(func):\n",
    "        @functools.wraps(func)\n",
    "        def wrapper(*args, **kwargs):\n",
    "            retries = 0\n",
    "            backoff = initial_backoff\n",
    "            while True:\n",
    "                try:\n",
    "                    return func(*args, **kwargs)\n",
    "                except Exception as e:\n",
    "                    retries += 1\n",
    "                    if retries > max_retries:\n",
    "                        print(f\"{func.__name__} failed after {retries} attempts: {e}\")\n",
    "                        raise\n",
    "                    print(f\"{func.__name__} error: {e}, retry {retries}/{max_retries} in {backoff}s\"))\n",
    "                    time.sleep(backoff)\n",
    "                    backoff = min(backoff * 2, max_backoff)\n",
    "        return wrapper\n",
    "    return decorator\n",
    "        \n",
    "class KafkaDataProducerService:\n",
    "    \"\"\"\n",
    "    Description:\n",
    "        API Data to Kafka\n",
    "    Params:\n",
    "        - topic_name (str, Required) : Topic명\n",
    "        - brokers (List[str], Required) : Broker 목록\n",
    "        - retries (Optional[int]) : 재시도 횟수\n",
    "    \"\"\"\n",
    "    def __init__(self, topic, brokers, retries = 3):\n",
    "        self.topic = topic\n",
    "        self.brokers = brokers\n",
    "        self.retries = retries\n",
    "\n",
    "        # Backoff settings\n",
    "        self._max_retries = int(os.getenv(\"RETRY_MAX\", 10))\n",
    "        self._initial_backoff = float(os.getenv(\"RETRY_INITIAL_BACKOFF\", 1.0))\n",
    "        self._max_backoff = float(os.getenv(\"RETRY_MAX_BACKOFF\", 30.0))\n",
    "        \n",
    "    def publish_prices(self):\n",
    "        producer = KafkaProducer(\n",
    "            acks=0,\n",
    "            bootstrap_servers=self.brokers,\n",
    "            retries = self.retries,\n",
    "            value_serializer=lambda x: dumps(x).encode('utf-8')\n",
    "        )\n",
    "        try:\n",
    "            tickers = Api.get_tickers()\n",
    "            if tickers is None:\n",
    "                raise Exception(\"Ticker 조회가 안되었습니다.\")\n",
    "            \n",
    "            for ticker in tickers:\n",
    "                data = Api.get_price(ticker)\n",
    "                producer.send(self.topic_name, data)\n",
    "                print(data)\n",
    "\n",
    "            producer.flush()\n",
    "        \n",
    "        except KafkaError as e:\n",
    "            print(f\"Kafka error occurred: {e}\")\n",
    "        finally:\n",
    "            producer.close() # kafka-python는 __enter__() / __exit__() 메서드를 구현하고 있지 않기 때문에 with 문을 사용할 수 없습니다. 따라서 close 선언 필요\n",
    "\n",
    "\n",
    "if __name__ == \"__main__\":\n",
    "    generator = KafkaDataProducerService(TOPIC, BROKER_LIST)\n",
    "    generator.publish_prices()"
   ]
  },
  {
   "cell_type": "code",
   "execution_count": 56,
   "id": "10671853",
   "metadata": {},
   "outputs": [],
   "source": [
    "class Human:\n",
    "    def __init__(self):\n",
    "        self._test = 1\n",
    "    def fubc(self):\n",
    "        print(self._test)\n",
    "\n",
    "a = Human()"
   ]
  },
  {
   "cell_type": "code",
   "execution_count": 57,
   "id": "cc5e8539",
   "metadata": {},
   "outputs": [
    {
     "name": "stdout",
     "output_type": "stream",
     "text": [
      "1\n"
     ]
    }
   ],
   "source": [
    "a.fubc()"
   ]
  },
  {
   "cell_type": "code",
   "execution_count": 55,
   "id": "3da12feb",
   "metadata": {},
   "outputs": [
    {
     "name": "stdout",
     "output_type": "stream",
     "text": [
      "4\n"
     ]
    }
   ],
   "source": [
    "import functools\n",
    "\n",
    "def retry_with_backoff(max_retries: int = 5,\n",
    "                       initial_backoff: float = 1.0,\n",
    "                       max_backoff: float = 30.0):\n",
    "    def decorator(func):\n",
    "        @functools.wraps(func)\n",
    "        def wrapper(*args, **kwargs):\n",
    "            retries = 0\n",
    "            backoff = initial_backoff\n",
    "            while True:\n",
    "                try:\n",
    "                    return func(*args, **kwargs)\n",
    "                except Exception as e:\n",
    "                    return \"에러 발생\"\n",
    "        return wrapper\n",
    "    return decorator\n",
    "\n",
    "@retry_with_backoff(5,1.0,3.0)\n",
    "def add(*args):\n",
    "    return max(args)\n",
    "\n",
    "print(add(1,3,4))"
   ]
  },
  {
   "cell_type": "code",
   "execution_count": 40,
   "id": "3ce15fcb",
   "metadata": {},
   "outputs": [
    {
     "name": "stdout",
     "output_type": "stream",
     "text": [
      "{'a': 10, 'b': 20}\n"
     ]
    }
   ],
   "source": [
    "def test_func(**kwargs):\n",
    "    print(kwargs)\n",
    "\n",
    "test_func(a=10,b=20)"
   ]
  },
  {
   "cell_type": "code",
   "execution_count": null,
   "id": "e2f42058",
   "metadata": {},
   "outputs": [],
   "source": []
  }
 ],
 "metadata": {
  "kernelspec": {
   "display_name": "base",
   "language": "python",
   "name": "python3"
  },
  "language_info": {
   "codemirror_mode": {
    "name": "ipython",
    "version": 3
   },
   "file_extension": ".py",
   "mimetype": "text/x-python",
   "name": "python",
   "nbconvert_exporter": "python",
   "pygments_lexer": "ipython3",
   "version": "3.9.7"
  }
 },
 "nbformat": 4,
 "nbformat_minor": 5
}
